{
 "cells": [
  {
   "cell_type": "markdown",
   "id": "7dfad11d",
   "metadata": {},
   "source": [
    "## Wealth Management SQL Agent\n",
    "\n",
    "### Notebook 3: Build SQL Agent with Strands Agents\n",
    "\n",
    "In this notebook, we'll create the client and portfolio analyst agents using [Strands Agents](https://strandsagents.com/latest/). Strands Agents is a simple yet powerful SDK that takes a model-driven approach to building and running AI agents.\n",
    "We'll connect the agent to the previously created MCP server, which will provide the necessary tools for the agent to interact with the wealth management data."
   ]
  },
  {
   "cell_type": "code",
   "execution_count": null,
   "id": "00118123",
   "metadata": {},
   "outputs": [],
   "source": [
    "import sys\n",
    "import os\n",
    "module_path = \"../..\"\n",
    "sys.path.append(os.path.abspath(module_path))\n",
    "from utils.environment_validation import validate_environment, validate_model_access\n",
    "validate_environment()"
   ]
  },
  {
   "cell_type": "code",
   "execution_count": null,
   "id": "38e5ac15",
   "metadata": {},
   "outputs": [],
   "source": [
    "required_models = [\n",
    "    \"us.anthropic.claude-3-5-haiku-20241022-v1:0\",\n",
    "    \"us.anthropic.claude-3-7-sonnet-20250219-v1:0\",\n",
    "]\n",
    "validate_model_access(required_models)"
   ]
  },
  {
   "cell_type": "code",
   "execution_count": null,
   "id": "1a8d5e6e",
   "metadata": {},
   "outputs": [],
   "source": [
    "import random\n",
    "import jwt\n",
    "import json\n",
    "import os\n",
    "import subprocess\n",
    "from pathlib import Path\n",
    "from functools import partial\n",
    "from rich import print as rprint\n",
    "from rich.markdown import Markdown\n",
    "\n",
    "\n",
    "from mcp import StdioServerParameters, stdio_client\n",
    "from mcp.client.streamable_http import streamablehttp_client\n",
    "from mcp.server import FastMCP\n",
    "from strands import Agent\n",
    "from strands.tools.mcp import MCPClient\n",
    "from strands.hooks import HookProvider, HookRegistry\n",
    "from strands.experimental.hooks import AfterToolInvocationEvent, BeforeToolInvocationEvent\n",
    "\n",
    "USER_DATA = json.load(Path(\"user_info.json\").open())\n",
    "\n",
    "# obtain the secret key from the previously generated file\n",
    "secret_key_path = Path(\"secret_key.txt\")\n",
    "if secret_key_path.exists():\n",
    "    secret_key = secret_key_path.read_text().strip()\n",
    "else:\n",
    "    raise FileNotFoundError(\"Please run the 2_build_mcp_server.ipynb notebook to generate the secret key.\")\n",
    "\n",
    "\n",
    "os.environ[\"SECRET_KEY\"] = secret_key"
   ]
  },
  {
   "cell_type": "code",
   "execution_count": null,
   "id": "3de42a20",
   "metadata": {},
   "outputs": [],
   "source": [
    "# launch the MCP server in a background process\n",
    "mcp_server_process = subprocess.Popen(\n",
    "    [sys.executable, \"mcp_server.py\"],\n",
    "    stdout=subprocess.PIPE,\n",
    "    stderr=subprocess.PIPE,\n",
    ")\n",
    "rprint (f\"MCP server started in the background on pid {mcp_server_process.pid}\")"
   ]
  },
  {
   "cell_type": "markdown",
   "id": "bbcef88c",
   "metadata": {},
   "source": [
    "To use [MCP with Strands Agents](https://strandsagents.com/latest/documentation/docs/user-guide/concepts/tools/mcp-tools/), we have to create a callable such as a function or a class that will produce the HTTP client for the MCP server. The below implementation uses a class that creates a client for a given user and their scopes.\n"
   ]
  },
  {
   "cell_type": "code",
   "execution_count": null,
   "id": "579a7a07",
   "metadata": {},
   "outputs": [],
   "source": [
    "class MCPClientBuilder:\n",
    "    \"\"\"\n",
    "    A callable class that returns an MCP client with the specified user and scopes.\n",
    "    \"\"\"\n",
    "    def __init__(self, user: str | None = None, scopes: list[str] | None = None, mcp_server_uri: str = \"http://localhost:8000/mcp\"):\n",
    "        self.user = user\n",
    "        self.scopes = scopes\n",
    "        self.mcp_server_uri = mcp_server_uri\n",
    "    \n",
    "    def get_user_jwt(self):\n",
    "        \"\"\"\n",
    "        Generate a JWT for the given user with the specified scopes.\n",
    "        \"\"\"\n",
    "        if self.user is None or self.scopes is None:\n",
    "            return None\n",
    "        \n",
    "        client_id = USER_DATA.get(self.user)\n",
    "        if not client_id:\n",
    "            raise ValueError(f\"User {self.user} not found in user_info.json\")\n",
    "        \n",
    "        return jwt.encode({\"client_id\": client_id, \"scopes\": self.scopes}, os.environ[\"SECRET_KEY\"], algorithm=\"HS256\")\n",
    "\n",
    "    def __call__(self):\n",
    "        \"\"\"\n",
    "        Create an HTTP client for the MCP server with optional user authentication.\n",
    "        \"\"\"\n",
    "        jwt_token = self.get_user_jwt()\n",
    "        headers = {\"Authorization\": f\"Bearer {jwt_token}\"} if jwt_token else None\n",
    "        \n",
    "        return streamablehttp_client(self.mcp_server_uri, headers=headers)"
   ]
  },
  {
   "cell_type": "code",
   "execution_count": null,
   "id": "696556d8",
   "metadata": {},
   "outputs": [],
   "source": [
    "# pick a random user from the user_info.json file\n",
    "user = random.choice(list(USER_DATA.keys()))\n",
    "rprint(f\"Using user: {user}\")\n",
    "\n",
    "scopes = [\"client\", \"authenticated\"]\n",
    "\n",
    "# create the client for the specified user and scopes\n",
    "wealth_client_mcp = MCPClient(MCPClientBuilder(user=user, scopes=scopes))"
   ]
  },
  {
   "cell_type": "code",
   "execution_count": null,
   "id": "91bcd79a",
   "metadata": {},
   "outputs": [],
   "source": [
    "# we can now use the MCP client to interact with the MCP server via the Agent\n",
    "with wealth_client_mcp:\n",
    "    # get list of tools\n",
    "    tools = wealth_client_mcp.list_tools_sync()\n",
    "\n",
    "    # configure the agent with the tools\n",
    "    wealth_customer_agent = Agent(\n",
    "        model=\"us.anthropic.claude-3-7-sonnet-20250219-v1:0\",\n",
    "        system_prompt=\"You are a support agent for a wealth management company. You can answer questions about portfolio holdings, investment strategies, and financial advice. Use the tools provided to assist with your tasks.\",\n",
    "        tools=tools)\n",
    "\n",
    "    response = str(wealth_customer_agent(\"Can you provide a listing of my current accounts?\"))"
   ]
  },
  {
   "cell_type": "code",
   "execution_count": null,
   "id": "1b793f04",
   "metadata": {},
   "outputs": [],
   "source": [
    "with wealth_client_mcp:\n",
    "    # we can ask a follow-up question\n",
    "    # note we do not create a new agent here as that will reset the context\n",
    "    response = str(wealth_customer_agent(\"Can you provide an analysis of my current portfolio holdings?\"))"
   ]
  },
  {
   "cell_type": "markdown",
   "id": "b8e2c8cb",
   "metadata": {},
   "source": [
    "### Portfolio Analysts Agent\n",
    "Let's try with a user that has a portfolio_analyst scope"
   ]
  },
  {
   "cell_type": "code",
   "execution_count": null,
   "id": "bf0aef31",
   "metadata": {},
   "outputs": [],
   "source": [
    "# let's try with a user that has a portfolio_analyst scope\n",
    "user = random.choice(list(USER_DATA.keys()))\n",
    "scopes = [\"portfolio_analyst\", \"authenticated\"]\n",
    "\n",
    "portfolio_analyst_mcp = MCPClient(MCPClientBuilder(user=user, scopes=scopes))"
   ]
  },
  {
   "cell_type": "markdown",
   "id": "5ed05e3f",
   "metadata": {},
   "source": [
    "Strand Agents support custom hooks, which allow us to extend the functionality of the agent. We'll use this feature to print the generated SQL queries and the results of the SQL queries to the console. This will help us understand how the agent is interacting with the data and what queries it is generating."
   ]
  },
  {
   "cell_type": "code",
   "execution_count": null,
   "id": "dd26c249",
   "metadata": {},
   "outputs": [],
   "source": [
    "class ResultProcessor(HookProvider):\n",
    "    def register_hooks(self, registry: HookRegistry) -> None:\n",
    "        registry.add_callback(AfterToolInvocationEvent, self.print_sql_result)\n",
    "        registry.add_callback(BeforeToolInvocationEvent, self.print_sql_query)\n",
    "\n",
    "    def print_sql_query(self, event: BeforeToolInvocationEvent) -> None:\n",
    "        if event.tool_use.get(\"name\") == \"run_custom_query\":\n",
    "            # Add formatting to SQL query\n",
    "            sql_query = event.tool_use.get(\"input\", {}).get(\"query\", \"\")\n",
    "            rprint(Markdown(f\"### SQL Query\\n```sql\\n{sql_query}\\n```\"))\n",
    "\n",
    "    def print_sql_result(self, event: AfterToolInvocationEvent) -> None:\n",
    "        if event.tool_use.get(\"name\") == \"run_custom_query\":\n",
    "            # Add formatting to query results\n",
    "            query_result = event.result[\"content\"][0][\"text\"]\n",
    "            rprint(Markdown(f\"### SQL Query Result\\n{query_result}\"))\n"
   ]
  },
  {
   "cell_type": "code",
   "execution_count": null,
   "id": "0dbafc17",
   "metadata": {},
   "outputs": [],
   "source": [
    "with portfolio_analyst_mcp:\n",
    "    tools = portfolio_analyst_mcp.list_tools_sync()\n",
    "\n",
    "    portfolio_analyst_agent = Agent(\n",
    "        model=\"us.anthropic.claude-3-7-sonnet-20250219-v1:0\",\n",
    "        system_prompt=\"\"\"You are a wealth management support agent. Your job is to assists a portfolio analyst with questions regarding customer portfolios.\n",
    "        You have access to customer data, portfolio information, and transactions that you can access via a SQL database.\n",
    "        You can use the provided tool to extract information about the data catalog which you can then use to generate SQL queries to help answer questions and analyze data.\n",
    "        The SQL query should be ANSI SQL compliant and should not contain any non-ANSI SQL syntax.\n",
    "        \"\"\",\n",
    "        hooks=[ResultProcessor()],\n",
    "        tools=tools)\n",
    "\n",
    "    response = str(portfolio_analyst_agent(\"How many customers have holdings in JPMorgan Chase?\"))"
   ]
  },
  {
   "cell_type": "code",
   "execution_count": null,
   "id": "b05e2d38",
   "metadata": {},
   "outputs": [],
   "source": [
    "with portfolio_analyst_mcp:\n",
    "    response = str(portfolio_analyst_agent(\"Can you provide a list of these customers?\"))"
   ]
  },
  {
   "cell_type": "code",
   "execution_count": null,
   "id": "dbf91324",
   "metadata": {},
   "outputs": [],
   "source": [
    "with portfolio_analyst_mcp:\n",
    "    response = str(portfolio_analyst_agent(\"Who are the top 5 customers by total holdings?\"))"
   ]
  },
  {
   "cell_type": "code",
   "execution_count": null,
   "id": "148af04a",
   "metadata": {},
   "outputs": [],
   "source": [
    "with portfolio_analyst_mcp:\n",
    "    response = str(portfolio_analyst_agent(\"How about the customers with the largest holdings in technology stocks?\"))"
   ]
  },
  {
   "cell_type": "code",
   "execution_count": null,
   "id": "c4d9396e",
   "metadata": {},
   "outputs": [],
   "source": [
    "# try a more complex question\n",
    "with portfolio_analyst_mcp:\n",
    "    response = str(portfolio_analyst_agent(\"Help find customers whose risk profile does not align with their portfolio holdings.\"))"
   ]
  },
  {
   "cell_type": "markdown",
   "id": "4ee12b28",
   "metadata": {},
   "source": [
    "When finished experimenting, run the cell below to stop the MCP server."
   ]
  },
  {
   "cell_type": "code",
   "execution_count": null,
   "id": "fca5bbf1",
   "metadata": {},
   "outputs": [],
   "source": [
    "mcp_server_process.terminate()"
   ]
  },
  {
   "cell_type": "markdown",
   "id": "5b8cbc21",
   "metadata": {},
   "source": []
  }
 ],
 "metadata": {
  "kernelspec": {
   "display_name": "Python 3",
   "language": "python",
   "name": "python3"
  },
  "language_info": {
   "codemirror_mode": {
    "name": "ipython",
    "version": 3
   },
   "file_extension": ".py",
   "mimetype": "text/x-python",
   "name": "python",
   "nbconvert_exporter": "python",
   "pygments_lexer": "ipython3",
   "version": "3.12.8"
  }
 },
 "nbformat": 4,
 "nbformat_minor": 5
}
