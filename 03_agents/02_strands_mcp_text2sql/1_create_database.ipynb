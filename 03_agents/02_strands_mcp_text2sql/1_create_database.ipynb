{
 "cells": [
  {
   "cell_type": "markdown",
   "id": "279b139e",
   "metadata": {},
   "source": [
    "## Wealth Management SQL Agent\n",
    "> *This notebook should work well with the **`Python 3 (ipykernel)`** kernel in SageMaker Studio on ml.t3.medium instance*\n",
    "\n",
    "In this set of labs we will explore how to build a SQL Agent using Model Context Protocol (MCP) and Strands agents.\n",
    "Key concepts include:\n",
    "- Ingesting data into a local [DuckDB](https://duckdb.org/) database\n",
    "- Creating an [MCP](https://modelcontextprotocol.io/docs/getting-started/intro) Server to expose the database via an API\n",
    "- Creating a Wealth Management SQL Agent using [Strands Agents](https://strandsagents.com/latest/)\n",
    "\n",
    "\n",
    "### Use Case Overview\n",
    "In this use case we will build a Text-to-SQL agent that will serve two distinct personas:\n",
    "1. **Client**: A client who wants to ask questions about their portfolio For example:\n",
    "    - \"What is the current value of my portfolio?\"\n",
    "    - \"How much have I earned in the last month?\"\n",
    "    - \"What are my top performing assets?\"\n",
    "2. **Wealth Manager / Portfolio Analyst**: An analysts that can ask questions across all clients. For example:\n",
    "    - \"What is the average portfolio value across all clients?\"\n",
    "    - \"Which clients have significant positions in tech stocks?\"\n",
    "    - \"Which clients have a portfolio value above $1 million?\"\n",
    "\n",
    "The same database and MCP server will be used for both personas, and we'll demonstrate some simple authorization mechanism that restricts access and capabilities based on the user's role.\n"
   ]
  },
  {
   "cell_type": "markdown",
   "id": "3c22ba9e",
   "metadata": {},
   "source": [
    "### Notebook 1: Data Ingestion\n",
    "In this notebook, we will create a DuckDB database and populate it with CSV files containing synthetic customer data. The database will be used to answer SQL queries from the agents."
   ]
  },
  {
   "cell_type": "code",
   "execution_count": null,
   "id": "8836278a",
   "metadata": {},
   "outputs": [],
   "source": [
    "import sys\n",
    "import os\n",
    "module_path = \"../..\"\n",
    "sys.path.append(os.path.abspath(module_path))\n",
    "from utils.environment_validation import validate_environment, validate_model_access\n",
    "validate_environment()"
   ]
  },
  {
   "cell_type": "code",
   "execution_count": null,
   "id": "c17c99c2",
   "metadata": {},
   "outputs": [],
   "source": [
    "required_models = [\n",
    "    \"us.anthropic.claude-3-5-haiku-20241022-v1:0\",\n",
    "    \"us.anthropic.claude-3-7-sonnet-20250219-v1:0\",\n",
    "]\n",
    "validate_model_access(required_models)"
   ]
  },
  {
   "cell_type": "code",
   "execution_count": null,
   "id": "5ff32fae",
   "metadata": {},
   "outputs": [],
   "source": [
    "import os\n",
    "import duckdb\n",
    "from pathlib import Path\n",
    "from typing import Optional, Union"
   ]
  },
  {
   "cell_type": "markdown",
   "id": "45430dbc",
   "metadata": {},
   "source": [
    "The data we'll be ingesting is contained in the `data/` directory, which includes:\n",
    "- `clients.csv`: Contains client information such as name, email, and phone number.\n",
    "- `accounts.csv`: Contains account information including account ID, client ID, and account type.\n",
    "- `transactions.csv`: Contains transaction data including transaction ID, account ID, date, amount, and type (credit/debit).\n",
    "- `holdings.csv`: Contains asset holdings data including holding ID, account ID, asset type, and quantity.\n",
    "\n",
    "The detailed schema for each table is below:\n",
    "\n",
    "![Database schema](./_images/db_schema.png)"
   ]
  },
  {
   "cell_type": "code",
   "execution_count": null,
   "id": "d1ff8183",
   "metadata": {},
   "outputs": [],
   "source": [
    "def create_table_from_csv(conn: duckdb.DuckDBPyConnection, csv_path: Union[str, Path], table_name: str = None) -> str:\n",
    "    \"\"\"\n",
    "    Helper function to create a table in DuckDB from a CSV file.\n",
    "    \n",
    "    Args:\n",
    "        conn: DuckDB connection object\n",
    "        csv_path (str): Path to the CSV file\n",
    "        table_name (str, optional): Name for the table. If None, uses CSV filename.\n",
    "    \n",
    "    Returns:\n",
    "        str: Name of the created table\n",
    "    \n",
    "    Raises:\n",
    "        FileNotFoundError: If CSV file doesn't exist\n",
    "        Exception: If table creation fails\n",
    "    \"\"\"\n",
    "\n",
    "    csv_file = Path(csv_path)\n",
    "    if not csv_file.exists():\n",
    "        raise FileNotFoundError(f\"CSV file {csv_path} does not exist\")\n",
    "    \n",
    "    if table_name is None:\n",
    "        table_name = csv_file.stem.lower()\n",
    "    \n",
    "    table_name = ''.join(c if c.isalnum() else '_' for c in table_name)\n",
    "    \n",
    "    try:\n",
    "        create_table_query = f\"\"\"\n",
    "        CREATE OR REPLACE TABLE {table_name} AS \n",
    "        SELECT * FROM read_csv_auto('{csv_file.absolute()}')\n",
    "        \"\"\"\n",
    "        \n",
    "        conn.execute(create_table_query)\n",
    "        \n",
    "        row_count = conn.execute(f\"SELECT COUNT(*) FROM {table_name}\").fetchone()[0]\n",
    "\n",
    "        print(f\"Created table '{table_name}' from '{csv_file.name}' with {row_count} rows\")\n",
    "\n",
    "        return table_name\n",
    "        \n",
    "    except Exception as e:\n",
    "        print(f\"Error creating table from {csv_file.name}: {str(e)}\")\n",
    "        raise"
   ]
  },
  {
   "cell_type": "markdown",
   "id": "6154e1e3",
   "metadata": {},
   "source": [
    "DuckDB uses a file-based storage system, so the database will be created in the current working directory. The database file will be named `wealth.db`."
   ]
  },
  {
   "cell_type": "code",
   "execution_count": null,
   "id": "c0f994fa",
   "metadata": {},
   "outputs": [],
   "source": [
    "db_path = \"wealth.db\"\n",
    "conn = duckdb.connect(db_path)"
   ]
  },
  {
   "cell_type": "code",
   "execution_count": null,
   "id": "559496a8",
   "metadata": {},
   "outputs": [],
   "source": [
    "# iterate over all CSV files in the data directory and add them to the database\n",
    "csv_files = Path(\"data\").glob(\"*.csv\")\n",
    "for csv_file in csv_files:\n",
    "    try:\n",
    "        table_name = create_table_from_csv(conn, csv_file)\n",
    "        print(f\"Table '{table_name}' created successfully.\")\n",
    "    except Exception as e:\n",
    "        print(f\"Failed to create table from {csv_file.name}: {str(e)}\")"
   ]
  },
  {
   "cell_type": "code",
   "execution_count": null,
   "id": "e6ce4ed0",
   "metadata": {},
   "outputs": [],
   "source": [
    "# confirm successful creation of tables\n",
    "conn.execute(\"SHOW TABLES\").fetchdf()"
   ]
  },
  {
   "cell_type": "markdown",
   "id": "ea8690b8",
   "metadata": {},
   "source": [
    "Now that the data is ingested, we can run a few simple queries to verify the data."
   ]
  },
  {
   "cell_type": "code",
   "execution_count": null,
   "id": "f91bb2b5",
   "metadata": {},
   "outputs": [],
   "source": [
    "conn.execute(\"SELECT * FROM wealth.clients limit 5\").fetchdf()"
   ]
  },
  {
   "cell_type": "code",
   "execution_count": null,
   "id": "9ee109bf",
   "metadata": {},
   "outputs": [],
   "source": [
    "conn.execute(\"SELECT * FROM wealth.transactions limit 5\").fetchdf()"
   ]
  },
  {
   "cell_type": "markdown",
   "id": "d5c53345",
   "metadata": {},
   "source": [
    "In our MCP design, the portfolio analysts agent will have the ability to run SQL queries against the entire database. We don't want to expose the entire database to the client agent, so we'll create a number of [Prepared Statements](https://en.wikipedia.org/wiki/Prepared_statement) that encapsulate common queries and only expose those to the client agent.\n",
    "\n",
    "The following queries will be exposed to the client agent:\n",
    "- Get information about the client\n",
    "- Get information about the client's accounts\n",
    "- Get information about a specific account's holdings\n",
    "- Get a listing of all transactions for a specific account"
   ]
  },
  {
   "cell_type": "code",
   "execution_count": null,
   "id": "9344b606",
   "metadata": {},
   "outputs": [],
   "source": [
    "# get information about a specific customer\n",
    "conn.execute(\"PREPARE query_customer_info AS SELECT * FROM clients WHERE client_id = ?\")\n",
    "\n",
    "# get a list of accounts for a specific customer\n",
    "conn.execute(\n",
    "    \"PREPARE query_customer_accounts AS SELECT * FROM accounts WHERE client_id = ?\"\n",
    ")\n",
    "\n",
    "# get a list of holdings for a specific account\n",
    "conn.execute(\n",
    "    \"\"\"PREPARE query_account_holdings AS \n",
    "    SELECT h.*, a.account_name, a.account_type, a.currency, a.status FROM holdings h inner join accounts a on h.account_id = a.account_id\n",
    "    WHERE a.client_id = ? and a.account_id = ?\"\"\"\n",
    ")\n",
    "\n",
    "# get a list of transactions for a specific account\n",
    "conn.execute(\n",
    "    \"\"\"PREPARE query_account_transactions AS \n",
    "    SELECT t.*, a.account_name, a.account_type, a.currency, a.status FROM transactions t inner join accounts a on t.account_id = a.account_id\n",
    "    WHERE a.client_id = ? and a.account_id = ?\n",
    "    ORDER BY t.trade_date DESC, t.settlement_date DESC\"\"\"\n",
    ")"
   ]
  },
  {
   "cell_type": "code",
   "execution_count": null,
   "id": "24f06537",
   "metadata": {},
   "outputs": [],
   "source": [
    "# we can now run a few simple queries to verify the data\n",
    "sample_client_id = \"f2cc681e-5180-43fa-864e-fd899a8a8387\"\n",
    "sample_account_id = \"acc_c3275420-2902-4884-92b9-1502cca5e202\"\n",
    "\n",
    "conn.execute(f\"EXECUTE query_customer_info('{sample_client_id}')\").fetchdf().to_dict(orient='records')[0]"
   ]
  },
  {
   "cell_type": "markdown",
   "id": "cb3ca26a",
   "metadata": {},
   "source": [
    "By using prepared statements, we can ensure that the client agent can only access the data it needs and eliminate the risk of SQL injection attacks, while the portfolio analyst agent has full access to the database."
   ]
  },
  {
   "cell_type": "code",
   "execution_count": null,
   "id": "ce39e2a5",
   "metadata": {},
   "outputs": [],
   "source": [
    "# close the database connection so it can be used by subsequent notebooks\n",
    "conn.close()"
   ]
  }
 ],
 "metadata": {
  "kernelspec": {
   "display_name": "Python 3",
   "language": "python",
   "name": "python3"
  },
  "language_info": {
   "codemirror_mode": {
    "name": "ipython",
    "version": 3
   },
   "file_extension": ".py",
   "mimetype": "text/x-python",
   "name": "python",
   "nbconvert_exporter": "python",
   "pygments_lexer": "ipython3",
   "version": "3.12.8"
  }
 },
 "nbformat": 4,
 "nbformat_minor": 5
}
