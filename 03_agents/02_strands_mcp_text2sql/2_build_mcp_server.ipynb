{
 "cells": [
  {
   "cell_type": "markdown",
   "id": "70399491",
   "metadata": {},
   "source": [
    "## Wealth Management SQL Agent\n",
    "\n",
    "### Notebook 2: Build MCP Server\n",
    "In this notebook, we will create an MCP server that will allow the agent to interact with the duckdb database we created in the previous notebook. \n",
    "\n",
    ">MCP is an open protocol that standardizes how applications provide context to large language models (LLMs). Think of MCP like a USB-C port for AI applications. Just as USB-C provides a standardized way to connect your devices to various peripherals and accessories, MCP provides a standardized way to connect AI models to different data sources and tools. MCP enables you build agents and complex workflows on top of LLMs and connects your models with the world.\n",
    "\n",
    "For more information on MCP, see the [MCP documentation](https://modelcontextprotocol.io/docs/getting-started/intro).\n",
    "\n",
    "By exposing the duckdb database through an MCP server, we can allow multiple agents to interact with the database without having to create a specific API for each agent. This makes our tools more modular, easier to maintain, more reusable, and more secure."
   ]
  },
  {
   "cell_type": "code",
   "execution_count": null,
   "id": "c72123db",
   "metadata": {},
   "outputs": [],
   "source": [
    "import sys\n",
    "import os\n",
    "module_path = \"../..\"\n",
    "sys.path.append(os.path.abspath(module_path))\n",
    "from utils.environment_validation import validate_environment, validate_model_access\n",
    "validate_environment()"
   ]
  },
  {
   "cell_type": "code",
   "execution_count": null,
   "id": "0eb199b4",
   "metadata": {},
   "outputs": [],
   "source": [
    "required_models = [\n",
    "    \"us.anthropic.claude-3-5-haiku-20241022-v1:0\",\n",
    "    \"us.anthropic.claude-3-7-sonnet-20250219-v1:0\",\n",
    "]\n",
    "validate_model_access(required_models)"
   ]
  },
  {
   "cell_type": "markdown",
   "id": "1fbe302f",
   "metadata": {},
   "source": [
    "The actual MCP server is implemented in the [mcp_server.py](mcp_server.py) file using the official [MCP Python SDK](https://github.com/modelcontextprotocol/python-sdk). All of the SQL capabilities are exposed as [MCP tools](https://modelcontextprotocol.io/docs/learn/server-concepts#tools-ai-actions), which can be used by any agent that connects to the MCP server.\n",
    "\n",
    "To provide an illustration of how authorization could work, we'll generate a simple json web token (JWT) that will contain the client_id for the user along with access scopes that will be used to determine which tools the user can access. The JWT will be signed with a simple shared secret key that can be used to encode and decode the token. In a production system, you would want to use a more secure method of authentication and authorization, such as OAuth2 or OpenID Connect.\n",
    "\n",
    "The JWT will be provided via the `Authorization` header in the HTTP request to the MCP server. The server will decode the JWT and use the client_id and scopes to determine which tools the user can access.\n",
    "The defined scopes will give the user access to the following tools:\n",
    "`client` scope: \n",
    " - `get_customer_info`\n",
    " - `get_customer_accounts`\n",
    " - `get_account_holdings`\n",
    " - `get_account_transactions`\n",
    " The tools do not take any input parameters, and the client_id is derived from the JWT token and wil be dynamically injected into the tool using the request context.\n",
    "Here is an example implementation \n",
    "```python\n",
    "@mcp.tool(annotations={\"required_scope\": [\"client\"]})\n",
    "def get_customer_accounts(context: Context) -> str:\n",
    "    \"\"\"Get a list of accounts for a specific customer.\"\"\"\n",
    "    request = context.request_context.request\n",
    "    user = request.user\n",
    "    client_id = user.display_name\n",
    "\n",
    "    return (\n",
    "        DATABASE.execute(f\"EXECUTE query_customer_accounts('{client_id}')\")\n",
    "        .fetchdf()\n",
    "        .to_markdown(index=False)\n",
    "    )\n",
    "```\n",
    "\n",
    "A user with the `portfolio_analyst` scope will have access to the following tools:\n",
    "- `get_data_catalog`: will provide the schema of the database, including the tables and columns\n",
    "- `run_custom_query`: run custom SQL query against the database\n"
   ]
  },
  {
   "cell_type": "code",
   "execution_count": null,
   "id": "b4d80da6",
   "metadata": {},
   "outputs": [],
   "source": [
    "from mcp.client.streamable_http import streamablehttp_client\n",
    "from mcp import ClientSession\n",
    "import nest_asyncio\n",
    "import asyncio\n",
    "import httpx\n",
    "import subprocess\n",
    "import sys\n",
    "from rich import print as rprint\n",
    "from rich.markdown import Markdown\n",
    "\n",
    "nest_asyncio.apply()"
   ]
  },
  {
   "cell_type": "code",
   "execution_count": null,
   "id": "6a020cbb",
   "metadata": {},
   "outputs": [],
   "source": [
    "import secrets\n",
    "import jwt\n",
    "import json\n",
    "import os\n",
    "from pathlib import Path\n",
    "\n",
    "# user data file contains a mapping of user emails to their client IDs\n",
    "USER_DATA = json.load(Path(\"user_info.json\").open())\n",
    "\n",
    "# generate a secret key for JWT encoding/decoding\n",
    "secret_key_path = Path(\"secret_key.txt\")\n",
    "if secret_key_path.exists():\n",
    "    secret_key = secret_key_path.read_text().strip()\n",
    "else:\n",
    "    secret_key = secrets.token_urlsafe(32)\n",
    "    secret_key_path.write_text(secret_key)\n",
    "\n",
    "\n",
    "os.environ[\"SECRET_KEY\"] = secret_key"
   ]
  },
  {
   "cell_type": "code",
   "execution_count": null,
   "id": "d41f7eac",
   "metadata": {},
   "outputs": [],
   "source": [
    "def get_user_jwt(user:str, scopes: list[str] = [\"client\"]) -> str:\n",
    "\n",
    "    \"\"\"Generate a JWT for the given user with the specified scopes.\"\"\"\n",
    "\n",
    "    client_id = USER_DATA.get(user)\n",
    "    if not client_id:\n",
    "        raise ValueError(f\"User {user} not found in user_info.json\")\n",
    "    encoded_jwt = jwt.encode({\"client_id\": client_id, \"scopes\": scopes}, os.environ[\"SECRET_KEY\"], algorithm=\"HS256\")\n",
    "\n",
    "    return encoded_jwt"
   ]
  },
  {
   "cell_type": "code",
   "execution_count": null,
   "id": "69cb8fc2",
   "metadata": {},
   "outputs": [],
   "source": [
    "# launch the MCP server in a background process\n",
    "mcp_server_process = subprocess.Popen(\n",
    "    [sys.executable, \"mcp_server.py\"],\n",
    "    stdout=subprocess.PIPE,\n",
    "    stderr=subprocess.PIPE,\n",
    ")\n",
    "rprint (f\"MCP server started in the background on pid {mcp_server_process.pid}\")"
   ]
  },
  {
   "cell_type": "code",
   "execution_count": null,
   "id": "093698fa",
   "metadata": {},
   "outputs": [],
   "source": [
    "async def test_invoke(user: str | None = None, scopes: list[str] | None = None):\n",
    "    \n",
    "    \"\"\"Helper function to test invoking the MCP server with different users and scopes.\"\"\"\n",
    "    \n",
    "    if user is not None and scopes is not None:\n",
    "        jwt_token = get_user_jwt(user, scopes)\n",
    "        headers = {\"Authorization\": f\"Bearer {jwt_token}\"}\n",
    "    else:\n",
    "        headers = None\n",
    "    \n",
    "    try:    \n",
    "    \n",
    "        async with streamablehttp_client(\"http://localhost:8000/mcp\", headers=headers) as (read_stream, write_stream, _):\n",
    "            \n",
    "            async with ClientSession(read_stream, write_stream) as session:\n",
    "                # Initialize the connection\n",
    "                await session.initialize()\n",
    "\n",
    "                # List tools\n",
    "                tool_list = await session.list_tools()\n",
    "                available_tools = [tool.name for tool in tool_list.tools]\n",
    "                rprint(Markdown(\"## Available tools:\"), available_tools)\n",
    "                \n",
    "                # Call a tool\n",
    "                list_accounts_results = await session.call_tool(\"get_customer_accounts\")\n",
    "                list_accounts_content = list_accounts_results.content[0].text\n",
    "                rprint(Markdown(f\"## Result from calling get_customer_accounts \\n{list_accounts_content}\"))\n",
    "\n",
    "                sql_query_results = await session.call_tool(\"run_custom_query\", {\"query\": \"SELECT count(*) as num_accounts FROM wealth.accounts\"})\n",
    "                sql_query_content = sql_query_results.content[0].text\n",
    "                rprint(Markdown(f\"## SQL Query Result:\\n{sql_query_content}\"))\n",
    "\n",
    "    except* httpx.HTTPStatusError as excgroup:\n",
    "        for exc in excgroup.exceptions:\n",
    "            print(f\"HTTP error occurred: {exc.response.status_code}\")\n",
    "                \n"
   ]
  },
  {
   "cell_type": "markdown",
   "id": "09dcf7f7",
   "metadata": {},
   "source": [
    "The helper function above will be used to test the following scenarios:\n",
    "- An unauthenticated user without the Authorization header should not be able to access any tools and should receive a 401 Unauthorized error.\n",
    "- A user with the `client` scope should be able to list the client tools and call the `get_customer_accounts` tool.\n",
    "- A user with the `client` scope should not be able to see or call the `run_custom_query` tool.\n",
    "- A user with the `portfolio_analyst` scope should be able to list the portfolio analyst tools and call the `run_custom_query` tool.\n",
    "- A user with the `portfolio_analyst` scope should not be able to see or call the `get_customer_accounts` tool."
   ]
  },
  {
   "cell_type": "code",
   "execution_count": null,
   "id": "0d3a136b",
   "metadata": {},
   "outputs": [],
   "source": [
    "\n",
    "rprint(Markdown(\"# Testing with an unauthenticated user\"))\n",
    "await test_invoke()\n",
    "\n",
    "rprint(Markdown(\"# Testing a user with 'client' and 'authenticated' scopes\"))\n",
    "await test_invoke(\"ehunt@example.org\", [\"client\", \"authenticated\"])\n",
    "\n",
    "rprint(Markdown(\"# Testing a user with 'portfolio_analyst' and 'authenticated' scopes\"))\n",
    "await test_invoke(\"mwise@example.net\", [\"portfolio_analyst\", \"authenticated\"])\n"
   ]
  },
  {
   "cell_type": "code",
   "execution_count": null,
   "id": "9c677525",
   "metadata": {},
   "outputs": [],
   "source": [
    "# shutdown the MCP server\n",
    "mcp_server_process.terminate()"
   ]
  }
 ],
 "metadata": {
  "kernelspec": {
   "display_name": "Python 3",
   "language": "python",
   "name": "python3"
  },
  "language_info": {
   "codemirror_mode": {
    "name": "ipython",
    "version": 3
   },
   "file_extension": ".py",
   "mimetype": "text/x-python",
   "name": "python",
   "nbconvert_exporter": "python",
   "pygments_lexer": "ipython3",
   "version": "3.12.8"
  }
 },
 "nbformat": 4,
 "nbformat_minor": 5
}
